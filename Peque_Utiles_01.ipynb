{
  "nbformat": 4,
  "nbformat_minor": 0,
  "metadata": {
    "colab": {
      "provenance": []
    },
    "kernelspec": {
      "name": "python3",
      "display_name": "Python 3"
    },
    "language_info": {
      "name": "python"
    }
  },
  "cells": [
    {
      "cell_type": "markdown",
      "source": [
        "# INICIO DE PEQUE UTILES"
      ],
      "metadata": {
        "id": "FWkVQPD0QEJd"
      }
    },
    {
      "cell_type": "code",
      "execution_count": null,
      "metadata": {
        "colab": {
          "base_uri": "https://localhost:8080/",
          "height": 35
        },
        "id": "wa-vg4GvP9ON",
        "outputId": "3187b003-4b7d-4d15-aade-3d8aadf9b103"
      },
      "outputs": [
        {
          "output_type": "display_data",
          "data": {
            "text/plain": [
              "<IPython.core.display.HTML object>"
            ],
            "text/html": [
              "<marquee style='width: 25%; color: orange;'><b>Hola!    esto es      PEQUE UTILES    </b></marquee>\n"
            ]
          },
          "metadata": {}
        }
      ],
      "source": [
        "%%html\n",
        "<marquee style='width: 25%; color: orange;'><b>Hola!    esto es      PEQUE UTILES    </b></marquee>"
      ]
    },
    {
      "cell_type": "markdown",
      "source": [
        "# Configuración del rótulo movedizo"
      ],
      "metadata": {
        "id": "zp41P2XwY1gd"
      }
    },
    {
      "cell_type": "markdown",
      "source": [
        "~~~\n",
        "<marquee direction=\"right\">Texto moviéndose a la derecha</marquee>\n",
        "<marquee direction=\"up\">Texto moviéndose hacia arriba</marquee>\n",
        "<marquee direction=\"down\">Texto moviéndose hacia abajo</marquee>\n",
        "~~~\n",
        "~~~\n",
        "<marquee scrollamount=\"10\">Texto con desplazamiento rápido</marquee>\n",
        "<marquee scrollamount=\"1\" scrolldelay=\"100\">Texto con desplazamiento lento</marquee>\n",
        "~~~\n",
        "\n",
        "~~~\n",
        "<marquee behavior=\"scroll\">Comportamiento predeterminado (scroll)</marquee>\n",
        "<marquee behavior=\"slide\">Comportamiento de deslizar (slide)</marquee>\n",
        "<marquee behavior=\"alternate\">Comportamiento alternativo (alternate)</marquee>\n",
        "~~~\n",
        "~~~\n",
        "<marquee loop=\"3\">Este texto se desplazará 3 veces</marquee>\n",
        "<marquee loop=\"infinite\">Este texto se desplazará indefinidamente</marquee>\n",
        "~~~\n",
        "\n",
        "~~~\n",
        "<marquee bgcolor=\"lightblue\">Texto con fondo azul claro</marquee>\n",
        "~~~\n",
        "\n",
        "~~~\n",
        "<marquee height=\"50px\" style=\"line-height: 50px;\">Texto alineado verticalmente</marquee>\n",
        "~~~\n",
        "\n",
        "~~~\n",
        "<marquee style=\"width: 50%; color: red; font-size: 20px; font-family: Arial; border: 2px solid black; padding: 5px;\">\n",
        "    <b>Texto con estilos CSS adicionales</b>\n",
        "</marquee>\n",
        "\n",
        "~~~"
      ],
      "metadata": {
        "id": "cWKD2XhzVRJB"
      }
    },
    {
      "cell_type": "code",
      "source": [
        "%%html\n",
        "<marquee\n",
        "    height=\"10px\"\n",
        "    direction=\"left\"\n",
        "    scrollamount=\"5\"\n",
        "    scrolldelay=\"90\"\n",
        "    behavior=\"alternate\"\n",
        "    loop=\"infinite\"\n",
        "    bgcolor=\"black\"\n",
        "    style=\"width: 25%; color: orange; font-size: 18px; border: 0px solid blue; padding: 10px;\">\n",
        "    <b>¡Hola! Esto es PEQUE UTILES</b>\n",
        "</marquee>"
      ],
      "metadata": {
        "colab": {
          "base_uri": "https://localhost:8080/",
          "height": 48
        },
        "id": "TmTJvn2oYqqD",
        "outputId": "8a6a6935-7df7-43b6-9558-9ea32c6b080d"
      },
      "execution_count": null,
      "outputs": [
        {
          "output_type": "display_data",
          "data": {
            "text/plain": [
              "<IPython.core.display.HTML object>"
            ],
            "text/html": [
              "<marquee \n",
              "    height=\"10px\"\n",
              "    direction=\"left\" \n",
              "    scrollamount=\"5\" \n",
              "    scrolldelay=\"90\" \n",
              "    behavior=\"alternate\" \n",
              "    loop=\"infinite\" \n",
              "    bgcolor=\"black\" \n",
              "    style=\"width: 25%; color: orange; font-size: 18px; border: 0px solid blue; padding: 10px;\">\n",
              "    <b>¡Hola! Esto es PEQUE UTILES</b>\n",
              "</marquee>\n"
            ]
          },
          "metadata": {}
        }
      ]
    },
    {
      "cell_type": "markdown",
      "source": [
        "# PEQUE UTILES\n",
        "\n",
        "Aquí voy a ir añadiendo pequeños codigos en `Python` para aplicarlos a proyectos más grandes o que sean de utilidad.\n",
        "\n",
        "\n"
      ],
      "metadata": {
        "id": "cAclzL_-QHz0"
      }
    },
    {
      "cell_type": "code",
      "source": [
        "# factorizaciion de un numero, numero!\n",
        "\n",
        "def factorizar():\n",
        "    numero = int(input(f\"introduzca el numero a factorizar: \"))\n",
        "    factorial = 1\n",
        "    if numero == 0 or numero == 1:\n",
        "        numero = 1\n",
        "    elif numero < 0:\n",
        "        print(\"Solo para numero mayores a 0\")\n",
        "    else:\n",
        "        for i in range(1, numero + 1):\n",
        "            factorial = factorial * i\n",
        "    print(factorial)\n",
        "factorizar()"
      ],
      "metadata": {
        "id": "0E_-Lr53jMt5"
      },
      "execution_count": null,
      "outputs": []
    },
    {
      "cell_type": "code",
      "source": [
        "# factorizaciion de un numero, numero!\n",
        "\n",
        "def factorial_iterativo(n):\n",
        "    if n < 0:\n",
        "        return \"El factorial no está definido para números negativos.\"\n",
        "    factorial = 1\n",
        "    for i in range(1, n + 1):\n",
        "        factorial *= i\n",
        "    return factorial\n",
        "\n",
        "numero = int(input(f\"introduzca el numero a factorizar: \"))\n",
        "print(f\"Factorial de {numero} (iterativo) es: {factorial_iterativo(numero)}\")\n"
      ],
      "metadata": {
        "id": "PAoU22yOpEf4"
      },
      "execution_count": null,
      "outputs": []
    },
    {
      "cell_type": "code",
      "source": [
        "# hay veces que quiero saber cuanto tarda en ejecutarse un codigo, un bucle o una parte del código\n",
        "\n",
        "import time\n",
        "\n",
        "# Inicia el temporizador\n",
        "inicio = time.time()\n",
        "\n",
        "# Código que deseas medir (por ejemplo, un bucle)\n",
        "resultado = 0\n",
        "for i in range(1, 1000000):\n",
        "    resultado += i\n",
        "\n",
        "# Detiene el temporizador\n",
        "fin = time.time()\n",
        "\n",
        "# Calcula el tiempo transcurrido\n",
        "tiempo_transcurrido = fin - inicio\n",
        "\n",
        "print(f\"El bucle tomó {tiempo_transcurrido} segundos en ejecutarse.\")\n"
      ],
      "metadata": {
        "colab": {
          "base_uri": "https://localhost:8080/"
        },
        "id": "bYbZ5AlmpnlO",
        "outputId": "7d24aa8f-a7c5-4dd6-94e4-1d39f82576ef"
      },
      "execution_count": null,
      "outputs": [
        {
          "output_type": "stream",
          "name": "stdout",
          "text": [
            "El bucle tomó 0.1323089599609375 segundos en ejecutarse.\n"
          ]
        }
      ]
    },
    {
      "cell_type": "code",
      "source": [
        "# hay veces que quiero saber cuanto tarda en ejecutarse un codigo, un bucle o una parte del código\n",
        "# este es más exacto\n",
        "\n",
        "import timeit\n",
        "\n",
        "# Define el código que deseas medir como una función\n",
        "def suma():\n",
        "    resultado = 0\n",
        "    for i in range(1, 1000000):\n",
        "        resultado += i\n",
        "\n",
        "# Usa timeit para medir el tiempo de ejecución de la funcion \"suma\"\n",
        "tiempo_transcurrido = timeit.timeit(suma, number=1)\n",
        "# \"number\" Indica cuántas veces debe ejecutarse la función suma. En este caso, la ejecutamos una sola vez.\n",
        "# Puedes aumentar este número para obtener un promedio sobre múltiples ejecuciones.\n",
        "# para hacer esta media recuerda en dividir \"tiempo_transcurrido / number\"\n",
        "\n",
        "print(f\"El bucle tomó {tiempo_transcurrido} segundos en ejecutarse.\")\n"
      ],
      "metadata": {
        "colab": {
          "base_uri": "https://localhost:8080/"
        },
        "id": "Oo5gwvaRqAyO",
        "outputId": "e038e205-b12b-45bd-854a-b16278466e73"
      },
      "execution_count": null,
      "outputs": [
        {
          "output_type": "stream",
          "name": "stdout",
          "text": [
            "El bucle tomó 0.07925047899971105 segundos en ejecutarse.\n"
          ]
        }
      ]
    },
    {
      "cell_type": "code",
      "source": [
        "#generador de datos para listas NUMEROS\n",
        "\n",
        "import random\n",
        "\n",
        "def generar_numeros():\n",
        "    datos_numericos = []\n",
        "    cantidad_numeros = int(input(\"Introduce la cantidad de numeros que quieres: \"))\n",
        "    rango_numeros_minimo = int(input(\"Introduce el valor minimo de los numeros, puede ser negativo: \"))\n",
        "    rango_numeros_maximo = int(input(\"Introduce el valor maximo de los numeros, puede ser negativo: \"))\n",
        "\n",
        "    for i in range(cantidad_numeros):\n",
        "        n_aleatorio = random.randint(rango_numeros_minimo, rango_numeros_maximo)\n",
        "        datos_numericos.append(n_aleatorio)\n",
        "    return datos_numericos\n",
        "\n",
        "print(generar_numeros())"
      ],
      "metadata": {
        "id": "dqCFd5A0rdIx"
      },
      "execution_count": null,
      "outputs": []
    },
    {
      "cell_type": "code",
      "source": [
        "#ordenar lista\n",
        "\n",
        "lista = generar_numeros()\n",
        "lista.sort()\n",
        "print(\"Lista ordenada:\", lista)"
      ],
      "metadata": {
        "id": "YTKeW-K0r7CQ"
      },
      "execution_count": null,
      "outputs": []
    },
    {
      "cell_type": "code",
      "source": [
        "#invertir lista\n",
        "\n",
        "lista = generar_numeros()\n",
        "lista_invertida = lista[::-1]\n",
        "print(\"Lista invertida:\", lista_invertida)"
      ],
      "metadata": {
        "id": "wBejs2u5sXA9"
      },
      "execution_count": null,
      "outputs": []
    },
    {
      "cell_type": "code",
      "source": [
        "#eliminar duplicados\n",
        "\n",
        "lista = generar_numeros()\n",
        "lista_unicos = list(set(lista))\n",
        "print(\"Lista original:\", lista)\n",
        "print(\"Lista sin duplicados:\", lista_unicos)"
      ],
      "metadata": {
        "id": "sMsUSYUWszAI"
      },
      "execution_count": null,
      "outputs": []
    },
    {
      "cell_type": "code",
      "source": [
        "#valores max y min de una lista\n",
        "\n",
        "numeros = generar_numeros()\n",
        "maximo = max(numeros)\n",
        "minimo = min(numeros)\n",
        "print(\"Máximo:\", maximo, \"Mínimo:\", minimo)"
      ],
      "metadata": {
        "id": "8DqyGOBbt8lC"
      },
      "execution_count": null,
      "outputs": []
    },
    {
      "cell_type": "code",
      "source": [
        "# generador de palabras \"RARAS\"\n",
        "# generador de listas de string\n",
        "\n",
        "import random\n",
        "import string\n",
        "\n",
        "def generar_palabros():\n",
        "    datos_palabras = []\n",
        "    cantidad_palabras = int(input(\"Introduce la cantidad de palabras que quieres: \"))\n",
        "    longitud_minima = int(input(\"Introduce la longitud mínima de cada palabra: \"))\n",
        "    longitud_maxima = int(input(\"Introduce la longitud máxima de cada palabra: \"))\n",
        "\n",
        "    for _ in range(cantidad_palabras):\n",
        "        longitud = random.randint(longitud_minima, longitud_maxima)\n",
        "        palabra = ''.join(random.choice(string.ascii_lowercase) for _ in range(longitud))\n",
        "        datos_palabras.append(palabra)\n",
        "\n",
        "    return datos_palabras\n",
        "\n",
        "palabros = generar_palabros()\n",
        "print(palabros)\n",
        "palabros.sort()\n",
        "print(\"Lista ordenada:\", palabros)              # ordena alfabeticamente\n",
        "maximo = max(palabros)                          # clasifica alfabeticamente min = a max 0 z\n",
        "minimo = min(palabros)\n",
        "print(\"Máximo:\", maximo, \"Mínimo:\", minimo)"
      ],
      "metadata": {
        "id": "cE62OWUcud3u"
      },
      "execution_count": null,
      "outputs": []
    },
    {
      "cell_type": "code",
      "source": [
        "# generador de palabras \"RARAS\"\n",
        "# generador de texto de string\n",
        "# igual que la anterior pero sin lista, en una sola cadena de texto\n",
        "\n",
        "import random\n",
        "import string\n",
        "\n",
        "def generar_frase():\n",
        "    frase_txt = \"\"\n",
        "    cantidad_palabras = int(input(\"Introduce la cantidad de palabras que quieres: \"))\n",
        "    longitud_minima = int(input(\"Introduce la longitud mínima de cada palabra: \"))\n",
        "    longitud_maxima = int(input(\"Introduce la longitud máxima de cada palabra: \"))\n",
        "\n",
        "    for _ in range(cantidad_palabras):\n",
        "        longitud = random.randint(longitud_minima, longitud_maxima)\n",
        "        palabra = ''.join(random.choice(string.ascii_lowercase) for _ in range(longitud))\n",
        "        frase_txt = frase_txt + palabra + \" \"\n",
        "\n",
        "    return frase_txt\n",
        "\n",
        "palabros = generar_frase()\n",
        "print(palabros)\n",
        "\n",
        "\n",
        "\n"
      ],
      "metadata": {
        "id": "G3W-JIKx5JHd"
      },
      "execution_count": null,
      "outputs": []
    },
    {
      "cell_type": "code",
      "source": [
        "# filtro mayor que\n",
        "\n",
        "def mayor_que_cinco(num):\n",
        "    return num > 5\n",
        "\n",
        "numeros = [2, 3, 5, 6, 7, 8]\n",
        "filtrados = list(filter(mayor_que_cinco, numeros))\n",
        "print(\"Filtrados:\", filtrados)"
      ],
      "metadata": {
        "id": "ry78Dzd4xYnw"
      },
      "execution_count": null,
      "outputs": []
    },
    {
      "cell_type": "code",
      "source": [
        "# filtro menor que\n",
        "\n",
        "def menor_que_cinco(num):\n",
        "    return num < 5\n",
        "\n",
        "numeros = [2, 3, 5, 6, 7, 8]\n",
        "filtrados = list(filter(menor_que_cinco, numeros))\n",
        "print(\"Filtrados:\", filtrados)"
      ],
      "metadata": {
        "id": "MlPkIxfyxr4p"
      },
      "execution_count": null,
      "outputs": []
    },
    {
      "cell_type": "code",
      "source": [],
      "metadata": {
        "id": "fG6UHWp7zeW1"
      },
      "execution_count": null,
      "outputs": []
    },
    {
      "cell_type": "code",
      "source": [
        "#cuenta palabras\n",
        "\n",
        "cadena = input(\"Introduce una frase: \")\n",
        "palabras = cadena.split()                   # coje una cadena, cada espacio es la separacion de otra palabra\n",
        "print(palabras)\n",
        "print(\"Número de palabras:\", len(palabras))"
      ],
      "metadata": {
        "id": "pgXMkm7Uze_Q"
      },
      "execution_count": null,
      "outputs": []
    },
    {
      "cell_type": "code",
      "source": [
        "#contar vocales\n",
        "\n",
        "#texto = input(\"Ingresa un texto: \").lower()\n",
        "texto = generar_frase()\n",
        "vocales = \"aeiou\"\n",
        "# cuenta cada vocal por separado, no si se repite la cadena aeiou\n",
        "# o sea, cuanta cuantas a, cuantas e, cuantas i.... y suma todas\n",
        "print(texto)\n",
        "conteo = sum(1 for char in texto if char in vocales)\n",
        "print(\"Número de vocales:\", conteo)"
      ],
      "metadata": {
        "id": "udxB3mpEz-XZ"
      },
      "execution_count": null,
      "outputs": []
    },
    {
      "cell_type": "code",
      "source": [
        "#buscar en lista\n",
        "\n",
        "lista_1 = generar_palabros()\n",
        "elemento = \"m\"\n",
        "esta_presente = elemento in lista_1\n",
        "\n",
        "lista_2= generar_numeros()\n",
        "elemento = 7\n",
        "esta_presente = elemento in lista_2\n",
        "\n",
        "\n",
        "print(lista_1)\n",
        "print(\"Esta presente\" if esta_presente else \"No está presente\")\n",
        "print()\n",
        "print(lista_2)\n",
        "print(\"Esta presente\" if esta_presente else \"No está presente\")"
      ],
      "metadata": {
        "id": "b2caBztc1ZD8"
      },
      "execution_count": null,
      "outputs": []
    },
    {
      "cell_type": "code",
      "source": [
        "# combina dos listas aunque sean de diferente tamaño\n",
        "# si faltan datos los rellena con None\n",
        "\n",
        "from itertools import zip_longest\n",
        "\n",
        "lista6 = [1, 2, 3, 4, 5]\n",
        "lista7 = ['a', 'b', 'c']\n",
        "\n",
        "combinada_completa = list(zip_longest(lista6, lista7, fillvalue=None))\n",
        "print(combinada_completa)\n",
        "# Resultado: [(1, 'a'), (2, 'b'), (3, 'c'), (4, None), (5, None)]\n",
        "\n",
        "lista8 = ['uno', 'dos', 'tres']\n",
        "combinada_tres = list(zip(lista6, lista7, lista8))  # aqui se para en el elemento de la lista más corta\n",
        "print(combinada_tres)\n",
        "\n",
        "combinada_completa = list(zip_longest(lista6, lista7, lista8, fillvalue=None))\n",
        "print(combinada_completa)"
      ],
      "metadata": {
        "colab": {
          "base_uri": "https://localhost:8080/"
        },
        "id": "1KMfK_eJ8sRv",
        "outputId": "95052ab6-2363-467d-f628-e1f0bf458f36"
      },
      "execution_count": null,
      "outputs": [
        {
          "output_type": "stream",
          "name": "stdout",
          "text": [
            "[(1, 'a'), (2, 'b'), (3, 'c'), (4, None), (5, None)]\n",
            "[(1, 'a', 'uno'), (2, 'b', 'dos'), (3, 'c', 'tres')]\n",
            "[(1, 'a', 'uno'), (2, 'b', 'dos'), (3, 'c', 'tres'), (4, None, None), (5, None, None)]\n"
          ]
        }
      ]
    },
    {
      "cell_type": "code",
      "source": [
        "# algoritmo de ordenamiento por burbuja\n",
        "\n",
        "def ordenamiento_burbuja(arr):\n",
        "    n = len(arr)\n",
        "    for i in range(n):\n",
        "        intercambio = False\n",
        "        for j in range(0, n-i-1):\n",
        "            if arr[j] > arr[j+1]:\n",
        "                arr[j], arr[j+1] = arr[j+1], arr[j]\n",
        "                intercambio = True\n",
        "        if not intercambio:\n",
        "            break\n",
        "\n",
        "numeros = generar_numeros()\n",
        "print(\"Lista original: \", numeros)\n",
        "print()\n",
        "ordenamiento_burbuja(numeros)\n",
        "print(\"Lista ordenada: \", numeros)"
      ],
      "metadata": {
        "id": "X7me_KAc-SMO"
      },
      "execution_count": null,
      "outputs": []
    }
  ]
}